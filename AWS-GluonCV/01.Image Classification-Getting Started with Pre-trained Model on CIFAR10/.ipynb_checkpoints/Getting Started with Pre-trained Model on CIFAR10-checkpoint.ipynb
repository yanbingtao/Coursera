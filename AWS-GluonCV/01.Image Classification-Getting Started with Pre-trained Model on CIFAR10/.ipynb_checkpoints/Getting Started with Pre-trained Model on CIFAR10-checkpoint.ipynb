{
 "cells": [
  {
   "cell_type": "code",
   "execution_count": 2,
   "metadata": {},
   "outputs": [],
   "source": [
    "import matplotlib.pyplot as plt\n",
    "\n",
    "from mxnet import gluon, nd, image\n",
    "from mxnet.gluon.data.vision import transforms\n",
    "from gluoncv import utils\n",
    "from gluoncv.model_zoo import get_model"
   ]
  },
  {
   "cell_type": "code",
   "execution_count": 3,
   "metadata": {},
   "outputs": [
    {
     "name": "stdout",
     "output_type": "stream",
     "text": [
      "Downloading search?q=ship+picture&rlz=1C1CHBF_enSG865SG865&sxsrf=ALeKk03QiZHmr16LSh4fZV-ulur-19EtbA:1593998548141&tbm=isch&source=iu&ictx=1&fir=kUbHzZQ0G-XYWM%252CrC5lBEChGKSQLM%252C_&vet=1&usg=AI4_-kRQxJsnn92jKnBTiRmMi5mgKRncLA&sa=X&ved=2ahUKEwiN0u-pu7fqAhVDb30KHfa8BXEQ9QEwAHoECAoQMA&biw=1536&bih=722#imgrc=kUbHzZQ0G-XYWM from https://www.google.com/search?q=ship+picture&rlz=1C1CHBF_enSG865SG865&sxsrf=ALeKk03QiZHmr16LSh4fZV-ulur-19EtbA:1593998548141&tbm=isch&source=iu&ictx=1&fir=kUbHzZQ0G-XYWM%252CrC5lBEChGKSQLM%252C_&vet=1&usg=AI4_-kRQxJsnn92jKnBTiRmMi5mgKRncLA&sa=X&ved=2ahUKEwiN0u-pu7fqAhVDb30KHfa8BXEQ9QEwAHoECAoQMA&biw=1536&bih=722#imgrc=kUbHzZQ0G-XYWM...\n"
     ]
    },
    {
     "ename": "OSError",
     "evalue": "[Errno 22] Invalid argument: 'search?q=ship+picture&rlz=1C1CHBF_enSG865SG865&sxsrf=ALeKk03QiZHmr16LSh4fZV-ulur-19EtbA:1593998548141&tbm=isch&source=iu&ictx=1&fir=kUbHzZQ0G-XYWM%252CrC5lBEChGKSQLM%252C_&vet=1&usg=AI4_-kRQxJsnn92jKnBTiRmMi5mgKRncLA&sa=X&ved=2ahUKEwiN0u-pu7fqAhVDb30KHfa8BXEQ9QEwAHoECAoQMA&biw=1536&bih=722#imgrc=kUbHzZQ0G-XYWM'",
     "output_type": "error",
     "traceback": [
      "\u001b[1;31m---------------------------------------------------------------------------\u001b[0m",
      "\u001b[1;31mOSError\u001b[0m                                   Traceback (most recent call last)",
      "\u001b[1;32m<ipython-input-3-8ea3a2c2f9ce>\u001b[0m in \u001b[0;36m<module>\u001b[1;34m\u001b[0m\n\u001b[0;32m      1\u001b[0m \u001b[0murl\u001b[0m \u001b[1;33m=\u001b[0m \u001b[1;34m'https://www.google.com/search?q=ship+picture&rlz=1C1CHBF_enSG865SG865&sxsrf=ALeKk03QiZHmr16LSh4fZV-ulur-19EtbA:1593998548141&tbm=isch&source=iu&ictx=1&fir=kUbHzZQ0G-XYWM%252CrC5lBEChGKSQLM%252C_&vet=1&usg=AI4_-kRQxJsnn92jKnBTiRmMi5mgKRncLA&sa=X&ved=2ahUKEwiN0u-pu7fqAhVDb30KHfa8BXEQ9QEwAHoECAoQMA&biw=1536&bih=722#imgrc=kUbHzZQ0G-XYWM'\u001b[0m\u001b[1;33m\u001b[0m\u001b[1;33m\u001b[0m\u001b[0m\n\u001b[1;32m----> 2\u001b[1;33m \u001b[0mim_fname\u001b[0m \u001b[1;33m=\u001b[0m \u001b[0mutils\u001b[0m\u001b[1;33m.\u001b[0m\u001b[0mdownload\u001b[0m\u001b[1;33m(\u001b[0m\u001b[0murl\u001b[0m\u001b[1;33m)\u001b[0m\u001b[1;33m\u001b[0m\u001b[1;33m\u001b[0m\u001b[0m\n\u001b[0m\u001b[0;32m      3\u001b[0m \u001b[1;33m\u001b[0m\u001b[0m\n\u001b[0;32m      4\u001b[0m \u001b[0mimg\u001b[0m \u001b[1;33m=\u001b[0m \u001b[0mimage\u001b[0m\u001b[1;33m.\u001b[0m\u001b[0mimread\u001b[0m\u001b[1;33m(\u001b[0m\u001b[0mim_fname\u001b[0m\u001b[1;33m)\u001b[0m\u001b[1;33m\u001b[0m\u001b[1;33m\u001b[0m\u001b[0m\n\u001b[0;32m      5\u001b[0m \u001b[1;33m\u001b[0m\u001b[0m\n",
      "\u001b[1;32m~\\anaconda3\\lib\\site-packages\\gluoncv\\utils\\download.py\u001b[0m in \u001b[0;36mdownload\u001b[1;34m(url, path, overwrite, sha1_hash)\u001b[0m\n\u001b[0;32m     68\u001b[0m             \u001b[1;32mraise\u001b[0m \u001b[0mRuntimeError\u001b[0m\u001b[1;33m(\u001b[0m\u001b[1;34m\"Failed downloading url %s\"\u001b[0m\u001b[1;33m%\u001b[0m\u001b[0murl\u001b[0m\u001b[1;33m)\u001b[0m\u001b[1;33m\u001b[0m\u001b[1;33m\u001b[0m\u001b[0m\n\u001b[0;32m     69\u001b[0m         \u001b[0mtotal_length\u001b[0m \u001b[1;33m=\u001b[0m \u001b[0mr\u001b[0m\u001b[1;33m.\u001b[0m\u001b[0mheaders\u001b[0m\u001b[1;33m.\u001b[0m\u001b[0mget\u001b[0m\u001b[1;33m(\u001b[0m\u001b[1;34m'content-length'\u001b[0m\u001b[1;33m)\u001b[0m\u001b[1;33m\u001b[0m\u001b[1;33m\u001b[0m\u001b[0m\n\u001b[1;32m---> 70\u001b[1;33m         \u001b[1;32mwith\u001b[0m \u001b[0mopen\u001b[0m\u001b[1;33m(\u001b[0m\u001b[0mfname\u001b[0m\u001b[1;33m,\u001b[0m \u001b[1;34m'wb'\u001b[0m\u001b[1;33m)\u001b[0m \u001b[1;32mas\u001b[0m \u001b[0mf\u001b[0m\u001b[1;33m:\u001b[0m\u001b[1;33m\u001b[0m\u001b[1;33m\u001b[0m\u001b[0m\n\u001b[0m\u001b[0;32m     71\u001b[0m             \u001b[1;32mif\u001b[0m \u001b[0mtotal_length\u001b[0m \u001b[1;32mis\u001b[0m \u001b[1;32mNone\u001b[0m\u001b[1;33m:\u001b[0m \u001b[1;31m# no content length header\u001b[0m\u001b[1;33m\u001b[0m\u001b[1;33m\u001b[0m\u001b[0m\n\u001b[0;32m     72\u001b[0m                 \u001b[1;32mfor\u001b[0m \u001b[0mchunk\u001b[0m \u001b[1;32min\u001b[0m \u001b[0mr\u001b[0m\u001b[1;33m.\u001b[0m\u001b[0miter_content\u001b[0m\u001b[1;33m(\u001b[0m\u001b[0mchunk_size\u001b[0m\u001b[1;33m=\u001b[0m\u001b[1;36m1024\u001b[0m\u001b[1;33m)\u001b[0m\u001b[1;33m:\u001b[0m\u001b[1;33m\u001b[0m\u001b[1;33m\u001b[0m\u001b[0m\n",
      "\u001b[1;31mOSError\u001b[0m: [Errno 22] Invalid argument: 'search?q=ship+picture&rlz=1C1CHBF_enSG865SG865&sxsrf=ALeKk03QiZHmr16LSh4fZV-ulur-19EtbA:1593998548141&tbm=isch&source=iu&ictx=1&fir=kUbHzZQ0G-XYWM%252CrC5lBEChGKSQLM%252C_&vet=1&usg=AI4_-kRQxJsnn92jKnBTiRmMi5mgKRncLA&sa=X&ved=2ahUKEwiN0u-pu7fqAhVDb30KHfa8BXEQ9QEwAHoECAoQMA&biw=1536&bih=722#imgrc=kUbHzZQ0G-XYWM'"
     ]
    }
   ],
   "source": [
    "url = 'https://raw.githubusercontent.com/dmlc/web-data/master/gluoncv/classification/plane-draw.jpeg'\n",
    "im_fname = utils.download(url)\n",
    "\n",
    "img = image.imread(im_fname)\n",
    "\n",
    "plt.imshow(img.asnumpy())\n",
    "plt.show()"
   ]
  },
  {
   "cell_type": "code",
   "execution_count": 5,
   "metadata": {},
   "outputs": [],
   "source": [
    "transform_fn = transforms.Compose([\n",
    "    transforms.Resize(32),\n",
    "    transforms.CenterCrop(32),\n",
    "    transforms.ToTensor(),\n",
    "    transforms.Normalize([0.4914, 0.4822, 0.4465], [0.2023, 0.1994, 0.2010])\n",
    "])"
   ]
  },
  {
   "cell_type": "code",
   "execution_count": 6,
   "metadata": {},
   "outputs": [
    {
     "name": "stderr",
     "output_type": "stream",
     "text": [
      "Clipping input data to the valid range for imshow with RGB data ([0..1] for floats or [0..255] for integers).\n"
     ]
    },
    {
     "data": {
      "image/png": "[encoded data removed]",
      "text/plain": [
       "<Figure size 432x288 with 1 Axes>"
      ]
     },
     "metadata": {
      "needs_background": "light"
     },
     "output_type": "display_data"
    }
   ],
   "source": [
    "img = transform_fn(img)\n",
    "plt.imshow(nd.transpose(img, (1,2,0)).asnumpy())\n",
    "plt.show()"
   ]
  },
  {
   "cell_type": "code",
   "execution_count": 7,
   "metadata": {},
   "outputs": [
    {
     "name": "stdout",
     "output_type": "stream",
     "text": [
      "Downloading C:\\Users\\yanbi\\.mxnet\\models\\cifar_resnet110_v1-a0e1f860.zip from https://apache-mxnet.s3-accelerate.dualstack.amazonaws.com/gluon/models/cifar_resnet110_v1-a0e1f860.zip...\n"
     ]
    },
    {
     "name": "stderr",
     "output_type": "stream",
     "text": [
      "6336KB [00:02, 2368.88KB/s]                                                                                            \n"
     ]
    }
   ],
   "source": [
    "net = get_model('cifar_resnet110_v1', classes=10, pretrained=True)"
   ]
  },
  {
   "cell_type": "code",
   "execution_count": 8,
   "metadata": {},
   "outputs": [
    {
     "name": "stdout",
     "output_type": "stream",
     "text": [
      "The input picture is classified as [airplane], with probability 0.392.\n"
     ]
    }
   ],
   "source": [
    "pred = net(img.expand_dims(axis=0))\n",
    "\n",
    "class_names = ['airplane', 'automobile', 'bird', 'cat', 'deer',\n",
    "               'dog', 'frog', 'horse', 'ship', 'truck']\n",
    "ind = nd.argmax(pred, axis=1).astype('int')\n",
    "print('The input picture is classified as [%s], with probability %.3f.'%\n",
    "      (class_names[ind.asscalar()], nd.softmax(pred)[0][ind].asscalar()))"
   ]
  }
 ],
 "metadata": {
  "kernelspec": {
   "display_name": "Python 3",
   "language": "python",
   "name": "python3"
  },
  "language_info": {
   "codemirror_mode": {
    "name": "ipython",
    "version": 3
   },
   "file_extension": ".py",
   "mimetype": "text/x-python",
   "name": "python",
   "nbconvert_exporter": "python",
   "pygments_lexer": "ipython3",
   "version": "3.7.6"
  },
  "toc": {
   "base_numbering": 1,
   "nav_menu": {},
   "number_sections": true,
   "sideBar": true,
   "skip_h1_title": false,
   "title_cell": "Table of Contents",
   "title_sidebar": "Contents",
   "toc_cell": false,
   "toc_position": {},
   "toc_section_display": true,
   "toc_window_display": false
  }
 },
 "nbformat": 4,
 "nbformat_minor": 4
}
